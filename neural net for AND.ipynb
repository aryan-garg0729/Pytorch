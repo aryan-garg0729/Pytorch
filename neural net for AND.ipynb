{
 "cells": [
  {
   "cell_type": "code",
   "execution_count": 1,
   "id": "532fa3ad",
   "metadata": {},
   "outputs": [],
   "source": [
    "import numpy as np"
   ]
  },
  {
   "cell_type": "code",
   "execution_count": 2,
   "id": "b20dffd1",
   "metadata": {},
   "outputs": [
    {
     "name": "stdout",
     "output_type": "stream",
     "text": [
      "[[0 0]\n",
      " [0 1]\n",
      " [1 0]\n",
      " [1 1]]\n",
      "[[0]\n",
      " [0]\n",
      " [0]\n",
      " [1]]\n"
     ]
    }
   ],
   "source": [
    "# inputs and outputs\n",
    "X = np.array([[0,0],[0,1],[1,0],[1,1]])\n",
    "Y = np.array([[0,0,0,1]]).T\n",
    "print(X)\n",
    "print(Y)"
   ]
  },
  {
   "cell_type": "code",
   "execution_count": 3,
   "id": "ad6b9c7f",
   "metadata": {},
   "outputs": [],
   "source": [
    "# sigmoid function\n",
    "def sig(z):\n",
    "    return 1/(1+np.exp(-z))"
   ]
  },
  {
   "cell_type": "code",
   "execution_count": 4,
   "id": "65b14bd0",
   "metadata": {},
   "outputs": [],
   "source": [
    "def derivativeSig(z):\n",
    "    return sig(z)*(1-sig(z))"
   ]
  },
  {
   "cell_type": "code",
   "execution_count": 5,
   "id": "283d5c47",
   "metadata": {},
   "outputs": [
    {
     "name": "stdout",
     "output_type": "stream",
     "text": [
      "[[-0.37275043]\n",
      " [-0.24088332]] \n",
      "\n",
      "[0.10200194]\n"
     ]
    },
    {
     "data": {
      "text/plain": [
       "array([[0.5254784 ],\n",
       "       [0.46533535],\n",
       "       [0.43272335],\n",
       "       [0.37481107]])"
      ]
     },
     "execution_count": 5,
     "metadata": {},
     "output_type": "execute_result"
    }
   ],
   "source": [
    "#forward prop without any hidden layer\n",
    "# 2 inputs, 1 bias, 1 output NN\n",
    "\n",
    "weights = 2*np.random.random((2,1))-1\n",
    "print(weights,\"\\n\")\n",
    "\n",
    "# no hidden layer weights\n",
    "bias = 2*np.random.random(1)-1\n",
    "print(bias)\n",
    "\n",
    "output0 = X\n",
    "output = sig(np.dot(output0,weights)+bias)\n",
    "lr = 10\n",
    "output"
   ]
  },
  {
   "cell_type": "code",
   "execution_count": 6,
   "id": "b7458fbb",
   "metadata": {},
   "outputs": [
    {
     "data": {
      "text/plain": [
       "(array([[8.03700207],\n",
       "        [8.03700207]]),\n",
       " array([-12.14194766]),\n",
       " array([[5.33109984e-06],\n",
       "        [1.62233778e-02],\n",
       "        [1.62233778e-02],\n",
       "        [9.80773584e-01]]))"
      ]
     },
     "execution_count": 6,
     "metadata": {},
     "output_type": "execute_result"
    }
   ],
   "source": [
    "#calculating error derivative and updating weights and biases\n",
    "for iter in range(1000):\n",
    "    output0 = X\n",
    "    output = sig(np.dot(output0,weights)+bias)\n",
    "    \n",
    "    first_term = output-Y \n",
    "    input_for_last_layer = np.dot(output0,weights)+bias  #inputj\n",
    "    second_term = derivativeSig(input_for_last_layer)\n",
    "    prod = first_term*second_term\n",
    "\n",
    "    \n",
    "#     slope = np.array([[0.0],[0.0]])\n",
    "\n",
    "#     for i in range(2):\n",
    "#         for j in range(4):\n",
    "#             slope[i][0] += prod[j][0]*output0[j][i]\n",
    "\n",
    "#     weights = weights-lr*slope\n",
    "#     bias_change = 0.0\n",
    "    \n",
    "#     for j in range(4):\n",
    "#             bias_change += prod[j][0]*1\n",
    "#     bias = bias - lr*bias_change\n",
    "\n",
    "\n",
    "    slope = np.dot(output0.T,prod)\n",
    "    weights = weights-lr*slope\n",
    "    bias_change = np.sum(prod)\n",
    "    bias = bias-lr*bias_change\n",
    "    \n",
    "output = sig(np.dot(X,weights)+bias)\n",
    "weights,bias,output"
   ]
  },
  {
   "cell_type": "markdown",
   "id": "8c854e16",
   "metadata": {},
   "source": [
    "# XOR NN"
   ]
  },
  {
   "cell_type": "code",
   "execution_count": 7,
   "id": "5f334b1d",
   "metadata": {},
   "outputs": [
    {
     "name": "stdout",
     "output_type": "stream",
     "text": [
      "[[0 0]\n",
      " [0 1]\n",
      " [1 0]\n",
      " [1 1]]\n",
      "[[0]\n",
      " [1]\n",
      " [1]\n",
      " [0]]\n"
     ]
    }
   ],
   "source": [
    "# inputs and outputs\n",
    "X = np.array([[0,0],[0,1],[1,0],[1,1]])\n",
    "Y = np.array([[0,1,1,0]]).T\n",
    "print(X)\n",
    "print(Y)"
   ]
  },
  {
   "cell_type": "code",
   "execution_count": 25,
   "id": "356c33bd",
   "metadata": {},
   "outputs": [],
   "source": [
    "# NN with 2 inp neuron, 2hidden neuron,1output\n",
    "wh = 2*np.random.random((2,2))-1\n",
    "bh = 2*np.random.random((1,2))-1\n",
    "wo = 2*np.random.random((2,1))-1\n",
    "bo = 2*np.random.random((1,1))-1\n",
    "lr = 0.1"
   ]
  },
  {
   "cell_type": "code",
   "execution_count": 29,
   "id": "56ebff50",
   "metadata": {},
   "outputs": [
    {
     "data": {
      "text/plain": [
       "(array([[0.01766855],\n",
       "        [0.98142999],\n",
       "        [0.98142819],\n",
       "        [0.02287782]]),\n",
       " array([[-4.8753944 , -6.04921417],\n",
       "        [-4.87579688, -6.05076915]]),\n",
       " array([[7.26508873, 2.44447736]]),\n",
       " array([[ 9.51048959],\n",
       "        [-9.8215885 ]]),\n",
       " array([[-4.4845837]]))"
      ]
     },
     "execution_count": 29,
     "metadata": {},
     "output_type": "execute_result"
    }
   ],
   "source": [
    "for itr in range(10000):\n",
    "    output0 = X\n",
    "    inputHidden = np.dot(output0,wh)+bh\n",
    "    outputHidden = sig(inputHidden)\n",
    "    inputForOutputLayer = np.dot(outputHidden,wo)+bo\n",
    "    output = sig(inputForOutputLayer)\n",
    "\n",
    "    first_term_output_layer = output-Y\n",
    "    second_term_output_layer = derivativeSig(inputForOutputLayer)\n",
    "    first_two_output_layer = first_term_output_layer*second_term_output_layer\n",
    "\n",
    "    first_term_hidden_layer = np.dot(first_two_output_layer,wo.T)\n",
    "    second_term_hidden_layer = derivativeSig(inputHidden)\n",
    "    first_two_hidden_layer = first_term_hidden_layer*second_term_hidden_layer\n",
    "\n",
    "    slope_output = np.dot(outputHidden.T,first_two_output_layer)\n",
    "    slope_output_bias = np.sum(first_two_output_layer,axis = 0,keepdims = True)\n",
    "\n",
    "    slope_hidden = np.dot(output0.T,first_two_hidden_layer)\n",
    "    slope_hidden_bias = np.sum(first_two_hidden_layer,axis = 0,keepdims = True)\n",
    "\n",
    "    wo = wo-lr*slope_output\n",
    "    bo = bo-lr*slope_output_bias\n",
    "\n",
    "    wh = wh-lr*slope_hidden\n",
    "    bh = bh-lr*slope_hidden_bias\n",
    "    \n",
    "output0 = X\n",
    "inputHidden = np.dot(output0,wh)+bh\n",
    "outputHidden = sig(inputHidden)\n",
    "inputForOutputLayer = np.dot(outputHidden,wo)+bo\n",
    "output = sig(inputForOutputLayer)\n",
    "output, wh, bh, wo, bo"
   ]
  },
  {
   "cell_type": "code",
   "execution_count": null,
   "id": "9d43b070",
   "metadata": {},
   "outputs": [],
   "source": []
  }
 ],
 "metadata": {
  "kernelspec": {
   "display_name": "Python 3 (ipykernel)",
   "language": "python",
   "name": "python3"
  },
  "language_info": {
   "codemirror_mode": {
    "name": "ipython",
    "version": 3
   },
   "file_extension": ".py",
   "mimetype": "text/x-python",
   "name": "python",
   "nbconvert_exporter": "python",
   "pygments_lexer": "ipython3",
   "version": "3.10.1"
  }
 },
 "nbformat": 4,
 "nbformat_minor": 5
}
